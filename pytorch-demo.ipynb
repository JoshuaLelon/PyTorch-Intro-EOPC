{
 "cells": [
  {
   "cell_type": "markdown",
   "metadata": {},
   "source": [
    "# Quick 15 minute (ish) PyTorch Demo\n",
    "\n",
    "By Joshua Mitchell\n",
    "\n",
    "https://lelon.io\n",
    "\n",
    "jlelonmitchell@gmail.com\n",
    "\n",
    "https://www.linkedin.com/in/joshua-mitchell-17b94077/"
   ]
  },
  {
   "cell_type": "markdown",
   "metadata": {},
   "source": [
    "## Some quick Jupyter Notebooks features"
   ]
  },
  {
   "cell_type": "code",
   "execution_count": 1,
   "metadata": {},
   "outputs": [],
   "source": [
    "# Install a conda package in the current Jupyter kernel\n",
    "\n",
    "# import sys\n",
    "# !conda install --yes --prefix {sys.prefix} <package name>"
   ]
  },
  {
   "cell_type": "code",
   "execution_count": 2,
   "metadata": {},
   "outputs": [],
   "source": [
    "from IPython.core.interactiveshell import InteractiveShell\n",
    "InteractiveShell.ast_node_interactivity = \"all\" # makes jupyter's auto-print functionality work for everything in cell"
   ]
  },
  {
   "cell_type": "code",
   "execution_count": 3,
   "metadata": {},
   "outputs": [],
   "source": [
    "%load_ext autoreload\n",
    "%autoreload 2\n",
    "\n",
    "# e.g. : \n",
    "\n",
    "# from foo import some_function\n",
    "\n",
    "# In [1]: some_function()\n",
    "# Out[1]: 42\n",
    "\n",
    "# In [2]: # open foo.py in an editor and change some_function to return 43\n",
    "\n",
    "# In [3]: some_function()\n",
    "# Out[3]: 43"
   ]
  },
  {
   "cell_type": "code",
   "execution_count": 4,
   "metadata": {},
   "outputs": [],
   "source": [
    "# make any plots you create with matplotlib be displayed here in your jupyter notebook\n",
    "%matplotlib inline"
   ]
  },
  {
   "cell_type": "code",
   "execution_count": 5,
   "metadata": {},
   "outputs": [
    {
     "data": {
      "application/javascript": [
       "IPython.notebook.set_autosave_interval(30000)"
      ]
     },
     "metadata": {},
     "output_type": "display_data"
    },
    {
     "name": "stdout",
     "output_type": "stream",
     "text": [
      "Autosaving every 30 seconds\n"
     ]
    }
   ],
   "source": [
    "%autosave 30"
   ]
  },
  {
   "cell_type": "code",
   "execution_count": 6,
   "metadata": {},
   "outputs": [],
   "source": [
    "# Command palette (for those who think clicking is cumbersome, like me):\n",
    "# CMD + Shift + P (might be CTRL + Shift + P or something on Windows)"
   ]
  },
  {
   "cell_type": "markdown",
   "metadata": {},
   "source": [
    "#### Esc     -   command mode (navigation)\n",
    "#### Enter  -   edit mode (typing)\n",
    "\n",
    "#### D + D (press twice) to delete current cell\n",
    "\n",
    "#### Shift + Tab   -   brings up the docstring for the object to the left of your cursor\n",
    "\n",
    "#### Esc + O   -  toggle cell output\n",
    "\n",
    "#### J, K   -   move up and down with vim commands\n",
    "\n",
    "#### l (in command mode)    -   show line numbers"
   ]
  },
  {
   "cell_type": "markdown",
   "metadata": {},
   "source": [
    "## Anyhow, back to PyTorch..."
   ]
  },
  {
   "cell_type": "code",
   "execution_count": 7,
   "metadata": {},
   "outputs": [
    {
     "data": {
      "image/png": "[encoded data removed]",
      "text/plain": [
       "<Figure size 432x288 with 1 Axes>"
      ]
     },
     "metadata": {},
     "output_type": "display_data"
    }
   ],
   "source": [
    "# Let's make some random data\n",
    "\n",
    "import matplotlib.pyplot as plt\n",
    "import numpy as np\n",
    "\n",
    "NUM_DATA_POINTS = 100\n",
    "\n",
    "x = np.arange(NUM_DATA_POINTS) # create a an array: [0, 1, 2... NUM_DATA_POINTS]\n",
    "noise = np.random.uniform(-5,5, size=(NUM_DATA_POINTS,)) # create some noise to add to a truly straight line\n",
    "y = -0.5 * x + 2 + noise # create a straight line plus some noise\n",
    "\n",
    "axes = plt.gca()\n",
    "line, = axes.plot(list(x), list(y), 'bs')"
   ]
  },
  {
   "cell_type": "markdown",
   "metadata": {},
   "source": [
    "## Awesome, we have some data. Looks like fair game for a linear regression model."
   ]
  },
  {
   "cell_type": "code",
   "execution_count": 8,
   "metadata": {},
   "outputs": [
    {
     "data": {
      "text/plain": [
       "tensor([91.,  5., 28., 23., 14., 57., 73., 90., 60., 59., 19., 81., 20., 87.,\n",
       "        47., 42., 21., 96., 86., 29.])"
      ]
     },
     "execution_count": 8,
     "metadata": {},
     "output_type": "execute_result"
    },
    {
     "data": {
      "text/plain": [
       "20"
      ]
     },
     "execution_count": 8,
     "metadata": {},
     "output_type": "execute_result"
    },
    {
     "data": {
      "text/plain": [
       "tensor([ 0.,  1.,  2.,  3.,  4.,  6.,  7.,  8.,  9., 10., 11., 12., 13., 15.,\n",
       "        16., 17., 18., 22., 24., 25., 26., 27., 30., 31., 32., 33., 34., 35.,\n",
       "        36., 37., 38., 39., 40., 41., 43., 44., 45., 46., 48., 49., 50., 51.,\n",
       "        52., 53., 54., 55., 56., 58., 61., 62., 63., 64., 65., 66., 67., 68.,\n",
       "        69., 70., 71., 72., 74., 75., 76., 77., 78., 79., 80., 82., 83., 84.,\n",
       "        85., 88., 89., 92., 93., 94., 95., 97., 98., 99.])"
      ]
     },
     "execution_count": 8,
     "metadata": {},
     "output_type": "execute_result"
    },
    {
     "data": {
      "text/plain": [
       "80"
      ]
     },
     "execution_count": 8,
     "metadata": {},
     "output_type": "execute_result"
    }
   ],
   "source": [
    "# Data setup:\n",
    "\n",
    "test_data_amount     = int(0.2 * NUM_DATA_POINTS)\n",
    "training_data_amount = NUM_DATA_POINTS - test_data_amount\n",
    "\n",
    "all_data_indices = [i for i in range(NUM_DATA_POINTS)]\n",
    "\n",
    "x_test  = np.random.choice(all_data_indices, test_data_amount, replace=False)\n",
    "# get the indices of 20% of the data for testing\n",
    "\n",
    "x_train = list(set(all_data_indices).difference(set(x_test)))\n",
    "# get the indices of the rest for training\n",
    "\n",
    "y_test  = [y[i] for i in x_test]\n",
    "y_train = [y[i] for i in x_train]\n",
    "\n",
    "# Enter: PyTorch\n",
    "\n",
    "import torch\n",
    "from torch.autograd import Variable\n",
    "\n",
    "x_train = torch.Tensor(x_train)\n",
    "# an n-dimensional array : array (1d) --> matrix (2d) --> tensor (3d) --> tensor (4d) ...)\n",
    "\n",
    "x_train_var = Variable(x_train) \n",
    "# wraps the tensor in a Variable class to add extra features we'll see later\n",
    "\n",
    "x_test = torch.Tensor(x_test)\n",
    "x_test_var = Variable(x_test)\n",
    "\n",
    "# Let's check out our variables:\n",
    "\n",
    "x_test_var\n",
    "len(x_test_var)\n",
    "\n",
    "x_train_var\n",
    "len(x_train_var)"
   ]
  },
  {
   "cell_type": "markdown",
   "metadata": {},
   "source": [
    "## Sweet. Now let's actually make the linear model.\n",
    "\n",
    "#### Quick linear regression review:\n",
    "\n",
    "The line we're creating is:\n",
    "\n",
    "y = mx + b\n",
    "\n",
    "We have the data (the x's and the y's).\n",
    "\n",
    "We want to know what the m and b are such that the line fits the data the best.\n",
    "\n",
    "For now, let's just make an arbitrary line with PyTorch:"
   ]
  },
  {
   "cell_type": "code",
   "execution_count": 9,
   "metadata": {},
   "outputs": [
    {
     "data": {
      "text/plain": [
       "Linear(in_features=1, out_features=1, bias=True)"
      ]
     },
     "execution_count": 9,
     "metadata": {},
     "output_type": "execute_result"
    }
   ],
   "source": [
    "import torch.nn as nn ## Neural Network package\n",
    "\n",
    "line_model = nn.Linear(1, 1) # create a line with 1 slope (i.e. weight) and one intercept (i.e. bias)\n",
    "\n",
    "# Done! We made a line. What's it look like?\n",
    "\n",
    "line_model"
   ]
  },
  {
   "cell_type": "markdown",
   "metadata": {},
   "source": [
    "#### Notice: we're barely using any of the features here. \n",
    "\n",
    "We can actually make it with as many weights and as many outputs as we want. We'll do that later.\n",
    "\n",
    "Speaking of weights, how do we find out what the m and b actually are?"
   ]
  },
  {
   "cell_type": "code",
   "execution_count": 10,
   "metadata": {},
   "outputs": [
    {
     "data": {
      "text/plain": [
       "[Parameter containing:\n",
       " tensor([[-0.3560]], requires_grad=True), Parameter containing:\n",
       " tensor([0.5625], requires_grad=True)]"
      ]
     },
     "execution_count": 10,
     "metadata": {},
     "output_type": "execute_result"
    }
   ],
   "source": [
    "list(line_model.parameters())"
   ]
  },
  {
   "cell_type": "markdown",
   "metadata": {},
   "source": [
    "Note: These are randomly generated."
   ]
  },
  {
   "cell_type": "markdown",
   "metadata": {},
   "source": [
    "#### How do we make the line fit the data?"
   ]
  },
  {
   "cell_type": "code",
   "execution_count": 11,
   "metadata": {},
   "outputs": [
    {
     "ename": "RuntimeError",
     "evalue": "size mismatch, m1: [1 x 20], m2: [1 x 1] at /Users/soumith/miniconda2/conda-bld/pytorch_1532623076075/work/aten/src/TH/generic/THTensorMath.cpp:2070",
     "output_type": "error",
     "traceback": [
      "\u001b[0;31m---------------------------------------------------------------------------\u001b[0m",
      "\u001b[0;31mRuntimeError\u001b[0m                              Traceback (most recent call last)",
      "\u001b[0;32m<ipython-input-11-629c18b1ff76>\u001b[0m in \u001b[0;36m<module>\u001b[0;34m()\u001b[0m\n\u001b[1;32m      1\u001b[0m \u001b[0mtest_input\u001b[0m \u001b[0;34m=\u001b[0m \u001b[0mVariable\u001b[0m\u001b[0;34m(\u001b[0m\u001b[0mtorch\u001b[0m\u001b[0;34m.\u001b[0m\u001b[0mTensor\u001b[0m\u001b[0;34m(\u001b[0m\u001b[0mx_test_var\u001b[0m\u001b[0;34m)\u001b[0m\u001b[0;34m)\u001b[0m\u001b[0;34m\u001b[0m\u001b[0m\n\u001b[0;32m----> 2\u001b[0;31m \u001b[0mline_model\u001b[0m\u001b[0;34m(\u001b[0m\u001b[0mtest_input\u001b[0m\u001b[0;34m)\u001b[0m\u001b[0;34m\u001b[0m\u001b[0m\n\u001b[0m",
      "\u001b[0;32m~/anaconda3/envs/eopc/lib/python3.6/site-packages/torch/nn/modules/module.py\u001b[0m in \u001b[0;36m__call__\u001b[0;34m(self, *input, **kwargs)\u001b[0m\n\u001b[1;32m    475\u001b[0m             \u001b[0mresult\u001b[0m \u001b[0;34m=\u001b[0m \u001b[0mself\u001b[0m\u001b[0;34m.\u001b[0m\u001b[0m_slow_forward\u001b[0m\u001b[0;34m(\u001b[0m\u001b[0;34m*\u001b[0m\u001b[0minput\u001b[0m\u001b[0;34m,\u001b[0m \u001b[0;34m**\u001b[0m\u001b[0mkwargs\u001b[0m\u001b[0;34m)\u001b[0m\u001b[0;34m\u001b[0m\u001b[0m\n\u001b[1;32m    476\u001b[0m         \u001b[0;32melse\u001b[0m\u001b[0;34m:\u001b[0m\u001b[0;34m\u001b[0m\u001b[0m\n\u001b[0;32m--> 477\u001b[0;31m             \u001b[0mresult\u001b[0m \u001b[0;34m=\u001b[0m \u001b[0mself\u001b[0m\u001b[0;34m.\u001b[0m\u001b[0mforward\u001b[0m\u001b[0;34m(\u001b[0m\u001b[0;34m*\u001b[0m\u001b[0minput\u001b[0m\u001b[0;34m,\u001b[0m \u001b[0;34m**\u001b[0m\u001b[0mkwargs\u001b[0m\u001b[0;34m)\u001b[0m\u001b[0;34m\u001b[0m\u001b[0m\n\u001b[0m\u001b[1;32m    478\u001b[0m         \u001b[0;32mfor\u001b[0m \u001b[0mhook\u001b[0m \u001b[0;32min\u001b[0m \u001b[0mself\u001b[0m\u001b[0;34m.\u001b[0m\u001b[0m_forward_hooks\u001b[0m\u001b[0;34m.\u001b[0m\u001b[0mvalues\u001b[0m\u001b[0;34m(\u001b[0m\u001b[0;34m)\u001b[0m\u001b[0;34m:\u001b[0m\u001b[0;34m\u001b[0m\u001b[0m\n\u001b[1;32m    479\u001b[0m             \u001b[0mhook_result\u001b[0m \u001b[0;34m=\u001b[0m \u001b[0mhook\u001b[0m\u001b[0;34m(\u001b[0m\u001b[0mself\u001b[0m\u001b[0;34m,\u001b[0m \u001b[0minput\u001b[0m\u001b[0;34m,\u001b[0m \u001b[0mresult\u001b[0m\u001b[0;34m)\u001b[0m\u001b[0;34m\u001b[0m\u001b[0m\n",
      "\u001b[0;32m~/anaconda3/envs/eopc/lib/python3.6/site-packages/torch/nn/modules/linear.py\u001b[0m in \u001b[0;36mforward\u001b[0;34m(self, input)\u001b[0m\n\u001b[1;32m     53\u001b[0m \u001b[0;34m\u001b[0m\u001b[0m\n\u001b[1;32m     54\u001b[0m     \u001b[0;32mdef\u001b[0m \u001b[0mforward\u001b[0m\u001b[0;34m(\u001b[0m\u001b[0mself\u001b[0m\u001b[0;34m,\u001b[0m \u001b[0minput\u001b[0m\u001b[0;34m)\u001b[0m\u001b[0;34m:\u001b[0m\u001b[0;34m\u001b[0m\u001b[0m\n\u001b[0;32m---> 55\u001b[0;31m         \u001b[0;32mreturn\u001b[0m \u001b[0mF\u001b[0m\u001b[0;34m.\u001b[0m\u001b[0mlinear\u001b[0m\u001b[0;34m(\u001b[0m\u001b[0minput\u001b[0m\u001b[0;34m,\u001b[0m \u001b[0mself\u001b[0m\u001b[0;34m.\u001b[0m\u001b[0mweight\u001b[0m\u001b[0;34m,\u001b[0m \u001b[0mself\u001b[0m\u001b[0;34m.\u001b[0m\u001b[0mbias\u001b[0m\u001b[0;34m)\u001b[0m\u001b[0;34m\u001b[0m\u001b[0m\n\u001b[0m\u001b[1;32m     56\u001b[0m \u001b[0;34m\u001b[0m\u001b[0m\n\u001b[1;32m     57\u001b[0m     \u001b[0;32mdef\u001b[0m \u001b[0mextra_repr\u001b[0m\u001b[0;34m(\u001b[0m\u001b[0mself\u001b[0m\u001b[0;34m)\u001b[0m\u001b[0;34m:\u001b[0m\u001b[0;34m\u001b[0m\u001b[0m\n",
      "\u001b[0;32m~/anaconda3/envs/eopc/lib/python3.6/site-packages/torch/nn/functional.py\u001b[0m in \u001b[0;36mlinear\u001b[0;34m(input, weight, bias)\u001b[0m\n\u001b[1;32m   1024\u001b[0m         \u001b[0;32mreturn\u001b[0m \u001b[0mtorch\u001b[0m\u001b[0;34m.\u001b[0m\u001b[0maddmm\u001b[0m\u001b[0;34m(\u001b[0m\u001b[0mbias\u001b[0m\u001b[0;34m,\u001b[0m \u001b[0minput\u001b[0m\u001b[0;34m,\u001b[0m \u001b[0mweight\u001b[0m\u001b[0;34m.\u001b[0m\u001b[0mt\u001b[0m\u001b[0;34m(\u001b[0m\u001b[0;34m)\u001b[0m\u001b[0;34m)\u001b[0m\u001b[0;34m\u001b[0m\u001b[0m\n\u001b[1;32m   1025\u001b[0m \u001b[0;34m\u001b[0m\u001b[0m\n\u001b[0;32m-> 1026\u001b[0;31m     \u001b[0moutput\u001b[0m \u001b[0;34m=\u001b[0m \u001b[0minput\u001b[0m\u001b[0;34m.\u001b[0m\u001b[0mmatmul\u001b[0m\u001b[0;34m(\u001b[0m\u001b[0mweight\u001b[0m\u001b[0;34m.\u001b[0m\u001b[0mt\u001b[0m\u001b[0;34m(\u001b[0m\u001b[0;34m)\u001b[0m\u001b[0;34m)\u001b[0m\u001b[0;34m\u001b[0m\u001b[0m\n\u001b[0m\u001b[1;32m   1027\u001b[0m     \u001b[0;32mif\u001b[0m \u001b[0mbias\u001b[0m \u001b[0;32mis\u001b[0m \u001b[0;32mnot\u001b[0m \u001b[0;32mNone\u001b[0m\u001b[0;34m:\u001b[0m\u001b[0;34m\u001b[0m\u001b[0m\n\u001b[1;32m   1028\u001b[0m         \u001b[0moutput\u001b[0m \u001b[0;34m+=\u001b[0m \u001b[0mbias\u001b[0m\u001b[0;34m\u001b[0m\u001b[0m\n",
      "\u001b[0;31mRuntimeError\u001b[0m: size mismatch, m1: [1 x 20], m2: [1 x 1] at /Users/soumith/miniconda2/conda-bld/pytorch_1532623076075/work/aten/src/TH/generic/THTensorMath.cpp:2070"
     ]
    }
   ],
   "source": [
    "test_input = Variable(torch.Tensor(x_test_var))\n",
    "line_model(test_input)"
   ]
  },
  {
   "cell_type": "markdown",
   "metadata": {},
   "source": [
    "## Tensors are tricky. What's going on here?\n",
    "\n",
    "### What we wanted to do:\n",
    "\n",
    "- Take the x values of our test data (which was literally the indices)\n",
    "- Run all those values through our line, one at a time (i.e. put an x in, get a y)\n",
    "- See the results\n",
    "\n",
    "### What PyTorch thinks we want to do:\n",
    "\n",
    "- Take all the x values of our test data\n",
    "- Fit all the x's into the line at once, as though our line had 20 inputs\n",
    "\n",
    "Our line only has one input. So what's the solution?\n",
    "\n",
    "### Answer:\n",
    "\n",
    "Reshape our tensor."
   ]
  },
  {
   "cell_type": "code",
   "execution_count": 12,
   "metadata": {},
   "outputs": [
    {
     "data": {
      "text/plain": [
       "'BEFORE'"
      ]
     },
     "execution_count": 12,
     "metadata": {},
     "output_type": "execute_result"
    },
    {
     "data": {
      "text/plain": [
       "tensor([91.,  5., 28., 23., 14., 57., 73., 90., 60., 59., 19., 81., 20., 87.,\n",
       "        47., 42., 21., 96., 86., 29.])"
      ]
     },
     "execution_count": 12,
     "metadata": {},
     "output_type": "execute_result"
    },
    {
     "data": {
      "text/plain": [
       "'AFTER'"
      ]
     },
     "execution_count": 12,
     "metadata": {},
     "output_type": "execute_result"
    },
    {
     "data": {
      "text/plain": [
       "tensor([[91.],\n",
       "        [ 5.],\n",
       "        [28.],\n",
       "        [23.],\n",
       "        [14.],\n",
       "        [57.],\n",
       "        [73.],\n",
       "        [90.],\n",
       "        [60.],\n",
       "        [59.],\n",
       "        [19.],\n",
       "        [81.],\n",
       "        [20.],\n",
       "        [87.],\n",
       "        [47.],\n",
       "        [42.],\n",
       "        [21.],\n",
       "        [96.],\n",
       "        [86.],\n",
       "        [29.]])"
      ]
     },
     "execution_count": 12,
     "metadata": {},
     "output_type": "execute_result"
    }
   ],
   "source": [
    "test_input = Variable(torch.Tensor(x_test_var))\n",
    "\"BEFORE\"\n",
    "test_input\n",
    "\"AFTER\"\n",
    "test_input.view(-1, 1)"
   ]
  },
  {
   "cell_type": "code",
   "execution_count": 13,
   "metadata": {},
   "outputs": [
    {
     "data": {
      "text/plain": [
       "tensor([[-31.8363],\n",
       "        [ -1.2177],\n",
       "        [ -9.4064],\n",
       "        [ -7.6262],\n",
       "        [ -4.4219],\n",
       "        [-19.7312],\n",
       "        [-25.4277],\n",
       "        [-31.4802],\n",
       "        [-20.7993],\n",
       "        [-20.4433],\n",
       "        [ -6.2021],\n",
       "        [-28.2760],\n",
       "        [ -6.5581],\n",
       "        [-30.4121],\n",
       "        [-16.1709],\n",
       "        [-14.3908],\n",
       "        [ -6.9141],\n",
       "        [-33.6164],\n",
       "        [-30.0561],\n",
       "        [ -9.7624]], grad_fn=<ThAddmmBackward>)"
      ]
     },
     "execution_count": 13,
     "metadata": {},
     "output_type": "execute_result"
    }
   ],
   "source": [
    "line_model(test_input.view(-1, 1)) "
   ]
  },
  {
   "cell_type": "markdown",
   "metadata": {},
   "source": [
    "It works!\n",
    "\n",
    "## Ugh, making lines is hard.\n",
    "\n",
    "What are we doing again?"
   ]
  },
  {
   "cell_type": "code",
   "execution_count": 14,
   "metadata": {},
   "outputs": [
    {
     "data": {
      "image/png": "[encoded data removed]",
      "text/plain": [
       "<Figure size 432x288 with 1 Axes>"
      ]
     },
     "metadata": {},
     "output_type": "display_data"
    }
   ],
   "source": [
    "axes = plt.gca()\n",
    "line, = axes.plot(list(x_train), [-0.5 * x + 2 for x in list(x_train)], 'r-')\n",
    "plt.show()"
   ]
  },
  {
   "cell_type": "markdown",
   "metadata": {},
   "source": [
    "### Above: The line we're trying to recreate.\n",
    "\n",
    "### Below: The data we're using to recreate the line above."
   ]
  },
  {
   "cell_type": "code",
   "execution_count": 15,
   "metadata": {},
   "outputs": [
    {
     "data": {
      "image/png": "[encoded data removed]",
      "text/plain": [
       "<Figure size 432x288 with 1 Axes>"
      ]
     },
     "metadata": {},
     "output_type": "display_data"
    }
   ],
   "source": [
    "axes = plt.gca()\n",
    "line, = axes.plot(list(x_train), list(y_train), 'bs')\n",
    "plt.show()"
   ]
  },
  {
   "cell_type": "markdown",
   "metadata": {},
   "source": [
    "### Our line currently:"
   ]
  },
  {
   "cell_type": "code",
   "execution_count": 16,
   "metadata": {},
   "outputs": [
    {
     "data": {
      "image/png": "[encoded data removed]",
      "text/plain": [
       "<Figure size 432x288 with 1 Axes>"
      ]
     },
     "metadata": {},
     "output_type": "display_data"
    }
   ],
   "source": [
    "axes = plt.gca()\n",
    "line, = axes.plot(list(x_train), [-0.5 * x + 2 for x in list(x_train)], 'r-')\n",
    "line, = axes.plot(list(x_train), list(line_model(x_train.view(-1, 1))), 'bs')\n",
    "plt.show()"
   ]
  },
  {
   "cell_type": "markdown",
   "metadata": {},
   "source": [
    "### Okay, so we're a little off. How do we fix it?\n",
    "\n",
    "### Answer: Some kind of optimization on a loss function."
   ]
  },
  {
   "cell_type": "code",
   "execution_count": 17,
   "metadata": {},
   "outputs": [],
   "source": [
    "# Now, let's bring in all the big guns from PyTorch.\n",
    "# Fair warning, there's a lot of machine learning / deep learning vocabulary here. Can get kitchen sink-ey.\n",
    "\n",
    "import torch.optim as optim # Optimization package\n",
    "\n",
    "NUMBER_OF_EPOCHS = 30000       # Number of times to adjust our model\n",
    "LEARNING_RATE = 1e-2           # How quickly our model \"learns\"\n",
    "loss_function = nn.MSELoss()   # The loss function we use. In this case, Mean Squared Error (since it's Linear Regression)\n",
    "optimizer = optim.Adagrad(line_model.parameters(), lr=LEARNING_RATE) # The optimizer: Stochastic Gradient Descent\n",
    "\n",
    "y_train_var = Variable(torch.Tensor(y_train)).view(-1, 1) # making our labels into a form usable by PyTorch\n",
    "\n",
    "for epoch in range(NUMBER_OF_EPOCHS):\n",
    "    line_model.zero_grad()\n",
    "    output = line_model(x_train_var.view(-1, 1)) # get our output from the model\n",
    "    loss = loss_function(output, y_train_var)    # calculate the loss\n",
    "    loss.backward()                              # calculate all the partial derivatives wrt to the loss function\n",
    "    optimizer.step()                             # add or subtract a portion of the derivatives from each weight / bias\n",
    "\n"
   ]
  },
  {
   "cell_type": "code",
   "execution_count": 18,
   "metadata": {},
   "outputs": [
    {
     "data": {
      "text/plain": [
       "[Parameter containing:\n",
       " tensor([[-0.5119]], requires_grad=True), Parameter containing:\n",
       " tensor([2.4408], requires_grad=True)]"
      ]
     },
     "execution_count": 18,
     "metadata": {},
     "output_type": "execute_result"
    }
   ],
   "source": [
    "list(line_model.parameters()) # should be -0.5 and 2 (ish)"
   ]
  },
  {
   "cell_type": "code",
   "execution_count": 19,
   "metadata": {},
   "outputs": [
    {
     "data": {
      "image/png": "[encoded data removed]",
      "text/plain": [
       "<Figure size 432x288 with 1 Axes>"
      ]
     },
     "metadata": {},
     "output_type": "display_data"
    }
   ],
   "source": [
    "axes = plt.gca()\n",
    "line, = axes.plot(list(x_train), [-0.5 * x + 2 for x in list(x_train)], 'r-')\n",
    "line, = axes.plot(list(x_train), list(line_model(x_train.view(-1, 1))), 'bs')\n",
    "plt.show()"
   ]
  },
  {
   "cell_type": "markdown",
   "metadata": {},
   "source": [
    "## Yeah, yeah, yeah, enough with the lines, I came here for the neural networks!\n",
    "\n",
    "Ok fine. Here's a demo for that:"
   ]
  },
  {
   "cell_type": "code",
   "execution_count": 20,
   "metadata": {},
   "outputs": [
    {
     "data": {
      "image/png": "[encoded data removed]",
      "text/plain": [
       "<Figure size 432x288 with 1 Axes>"
      ]
     },
     "metadata": {},
     "output_type": "display_data"
    }
   ],
   "source": [
    "x_train = Variable(torch.Tensor([[i] for i in range(100)]), requires_grad=False)\n",
    "y_train = Variable(torch.Tensor([[i] for i in range(100)]), requires_grad=False)\n",
    "\n",
    "class Net(nn.Module):\n",
    "    def __init__(self):\n",
    "        super(Net, self).__init__()\n",
    "        self.fc1 = nn.Linear(1, 2)\n",
    "        self.fc2 = nn.Linear(2, 1)\n",
    "        self.activation = nn.Sigmoid()\n",
    "\n",
    "    def forward(self, x):\n",
    "        x = self.fc1(x)\n",
    "        x = self.activation(x)\n",
    "        x = self.fc2(x)\n",
    "        return x\n",
    "\n",
    "net = Net() # we made a blueprint above for our neural network, now we initialize one.\n",
    "\n",
    "axes = plt.gca()\n",
    "line, = axes.plot(list(x_train), list(net(x_train)), 'bs')\n",
    "line, = axes.plot(list(x_train), list(x_train), 'r-')\n",
    "plt.show()\n",
    "\n",
    "# Red: The identity function: y = x (we're trying to approximate it)\n",
    "# Blue: What our neural network does now"
   ]
  },
  {
   "cell_type": "code",
   "execution_count": null,
   "metadata": {
    "scrolled": false
   },
   "outputs": [],
   "source": [
    "%matplotlib inline\n",
    "\n",
    "NUMBER_OF_EPOCHS = 10000\n",
    "LEARNING_RATE = 0.1\n",
    "loss_function = nn.MSELoss()\n",
    "optimizer = optim.Adagrad(net.parameters(), lr=LEARNING_RATE) \n",
    "\n",
    "import pylab as pl\n",
    "from IPython import display\n",
    "\n",
    "for epoch in range(NUMBER_OF_EPOCHS):\n",
    "    net.zero_grad()\n",
    "    output = net(x_train)\n",
    "    loss = loss_function(output, y_train)\n",
    "    loss.backward()\n",
    "    optimizer.step()\n",
    "    \n",
    "    display.clear_output(wait=True)\n",
    "    axes = plt.gca()\n",
    "    line, = axes.plot(list(x_train), list(net(x_train)), 'bs')\n",
    "    line, = axes.plot(list(x_train), list(x_train), 'r-')\n",
    "    plt.show()"
   ]
  }
 ],
 "metadata": {
  "kernelspec": {
   "display_name": "Python [conda env:eopc]",
   "language": "python",
   "name": "conda-env-eopc-py"
  },
  "language_info": {
   "codemirror_mode": {
    "name": "ipython",
    "version": 3
   },
   "file_extension": ".py",
   "mimetype": "text/x-python",
   "name": "python",
   "nbconvert_exporter": "python",
   "pygments_lexer": "ipython3",
   "version": "3.6.6"
  }
 },
 "nbformat": 4,
 "nbformat_minor": 2
}
